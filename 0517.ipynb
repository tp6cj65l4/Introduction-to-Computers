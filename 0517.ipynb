{
  "nbformat": 4,
  "nbformat_minor": 0,
  "metadata": {
    "colab": {
      "provenance": [],
      "authorship_tag": "ABX9TyN845wK6aNNR9cd4rmrpp7q",
      "include_colab_link": true
    },
    "kernelspec": {
      "name": "python3",
      "display_name": "Python 3"
    },
    "language_info": {
      "name": "python"
    }
  },
  "cells": [
    {
      "cell_type": "markdown",
      "metadata": {
        "id": "view-in-github",
        "colab_type": "text"
      },
      "source": [
        "<a href=\"https://colab.research.google.com/github/tp6cj65l4/Introduction-to-Computers/blob/main/0517.ipynb\" target=\"_parent\"><img src=\"https://colab.research.google.com/assets/colab-badge.svg\" alt=\"Open In Colab\"/></a>"
      ]
    },
    {
      "cell_type": "code",
      "source": [
        "score = int(input(\"score: \"))\n",
        "\n",
        "if score >= 90:\n",
        "\n",
        "    print('Grade is: A')\n",
        "\n",
        "elif score >= 80:\n",
        "\n",
        "    print('Grade is: B')\n",
        "\n",
        "elif score >= 70:\n",
        "\n",
        "    print('Grade is: C')\n",
        "\n",
        "elif score >= 60:\n",
        "\n",
        "    print('Grade is: D')\n",
        "\n",
        "else:\n",
        "\n",
        "    print('Grade is: F')"
      ],
      "metadata": {
        "colab": {
          "base_uri": "https://localhost:8080/"
        },
        "id": "tlk54s6i03qL",
        "outputId": "5bddf603-66ce-46bc-d7c0-43f4722bdfbb"
      },
      "execution_count": null,
      "outputs": [
        {
          "output_type": "stream",
          "name": "stdout",
          "text": [
            "score: 67\n",
            "Grade is: D\n"
          ]
        }
      ]
    },
    {
      "cell_type": "code",
      "source": [
        "a=int(input('請輸入收入淨額'))\n",
        "if a>=2000000:\n",
        "  print('付稅金額',a*0.3,'元')\n",
        "elif a>=1000000:\n",
        "  print('付稅金額',a*0.21,'元')\n",
        "elif a>=600000:\n",
        "  print('付稅金額',a*0.13,'元')\n",
        "elif a>=300000:\n",
        "  print('付稅金額',a*0.06,'元')\n",
        "else:\n",
        "  print('付稅金額0元')"
      ],
      "metadata": {
        "colab": {
          "base_uri": "https://localhost:8080/"
        },
        "id": "5pClPln31DU0",
        "outputId": "e9ac01ba-0c97-48a3-a49c-5fe1b56eefd5"
      },
      "execution_count": null,
      "outputs": [
        {
          "output_type": "stream",
          "name": "stdout",
          "text": [
            "請輸入收入淨額2000000\n",
            "付稅金額 600000.0 元\n"
          ]
        }
      ]
    },
    {
      "cell_type": "code",
      "execution_count": null,
      "metadata": {
        "colab": {
          "base_uri": "https://localhost:8080/"
        },
        "id": "_fM0I1Irz4Vq",
        "outputId": "ac436a47-e636-43f7-de78-3b2de8dfe98a"
      },
      "outputs": [
        {
          "output_type": "stream",
          "name": "stdout",
          "text": [
            "33\n",
            "體威異常，請重新量測\n"
          ]
        }
      ],
      "source": [
        "a=float(input(''))\n",
        "if a>37.5:\n",
        "  print('體溫過高')\n",
        "elif a>37:\n",
        "  print('體溫略高')\n",
        "elif a>34:\n",
        "  print('體溫正常')\n",
        "else:\n",
        "  print('體溫異常，請重新量測')"
      ]
    },
    {
      "cell_type": "code",
      "source": [
        "a=int(input())\n",
        "if a<3 or a>11:\n",
        "  print(a,'是冬天')\n",
        "elif a<6:\n",
        "  print(a,'是春天')\n",
        "elif a<9:\n",
        "  print(a,'是夏天')\n",
        "else:\n",
        "  print(a,'是秋天')"
      ],
      "metadata": {
        "colab": {
          "base_uri": "https://localhost:8080/"
        },
        "id": "3-mWgOZl111e",
        "outputId": "a0ef4348-5450-427d-eaa4-94623cd7dcf2"
      },
      "execution_count": null,
      "outputs": [
        {
          "output_type": "stream",
          "name": "stdout",
          "text": [
            "9\n",
            "9 是秋天\n"
          ]
        }
      ]
    }
  ]
}