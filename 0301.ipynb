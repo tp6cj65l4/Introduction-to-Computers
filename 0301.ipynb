{
  "nbformat": 4,
  "nbformat_minor": 0,
  "metadata": {
    "colab": {
      "provenance": [],
      "authorship_tag": "ABX9TyNPgKFhsL87umjAJXD3V83R",
      "include_colab_link": true
    },
    "kernelspec": {
      "name": "python3",
      "display_name": "Python 3"
    },
    "language_info": {
      "name": "python"
    }
  },
  "cells": [
    {
      "cell_type": "markdown",
      "metadata": {
        "id": "view-in-github",
        "colab_type": "text"
      },
      "source": [
        "<a href=\"https://colab.research.google.com/github/tp6cj65l4/Introduction-to-Computers/blob/main/0301.ipynb\" target=\"_parent\"><img src=\"https://colab.research.google.com/assets/colab-badge.svg\" alt=\"Open In Colab\"/></a>"
      ]
    },
    {
      "cell_type": "code",
      "execution_count": null,
      "metadata": {
        "id": "dt1BwwZwR5jy"
      },
      "outputs": [],
      "source": [
        "print('Hello!')"
      ]
    },
    {
      "cell_type": "code",
      "source": [
        "print('你好!')"
      ],
      "metadata": {
        "id": "54MohyA7SPVz"
      },
      "execution_count": null,
      "outputs": []
    },
    {
      "cell_type": "code",
      "source": [
        "print('今天是3/1!')"
      ],
      "metadata": {
        "id": "3iFagnxLSS3n"
      },
      "execution_count": null,
      "outputs": []
    },
    {
      "cell_type": "code",
      "source": [
        "print('411650012_陳泓兆')"
      ],
      "metadata": {
        "id": "EJW1w7gaSW-_"
      },
      "execution_count": null,
      "outputs": []
    }
  ]
}